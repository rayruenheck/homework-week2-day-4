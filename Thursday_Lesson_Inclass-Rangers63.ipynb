{
 "cells": [
  {
   "cell_type": "markdown",
   "metadata": {},
   "source": [
    "# Object-Oriented-Programming (OOP)"
   ]
  },
  {
   "cell_type": "markdown",
   "metadata": {},
   "source": [
    "## Tasks Today:\n",
    "\n",
    "   \n",
    "\n",
    "1) <b>Creating a Class (Initializing/Declaring)</b> <br>\n",
    "2) <b>Using a Class (Instantiating)</b> <br>\n",
    " &nbsp;&nbsp;&nbsp;&nbsp; a) Creating One Instance <br>\n",
    " &nbsp;&nbsp;&nbsp;&nbsp; b) Creating Multiple Instances <br>\n",
    " &nbsp;&nbsp;&nbsp;&nbsp; c) In-Class Exercise #1 - Create a Class 'Car' and instantiate three different makes of cars <br>\n",
    "3) <b>The \\__init\\__() Method</b> <br>\n",
    " &nbsp;&nbsp;&nbsp;&nbsp; a) The 'self' Attribute <br>\n",
    "4) <b>Class Attributes</b> <br>\n",
    " &nbsp;&nbsp;&nbsp;&nbsp; a) Initializing Attributes <br>\n",
    " &nbsp;&nbsp;&nbsp;&nbsp; b) Setting an Attribute Outside of the \\__init\\__() Method <br>\n",
    " &nbsp;&nbsp;&nbsp;&nbsp; c) Setting Defaults for Attributes <br>\n",
    " &nbsp;&nbsp;&nbsp;&nbsp; d) Accessing Class Attributes <br>\n",
    " &nbsp;&nbsp;&nbsp;&nbsp; e) Changing Class Attributes <br>\n",
    " &nbsp;&nbsp;&nbsp;&nbsp; f) In-Class Exercise #2 - Add a color and wheels attribute to your 'Car' class <br>\n",
    "5) <b>Class Methods</b> <br>\n",
    " &nbsp;&nbsp;&nbsp;&nbsp; a) Creating <br>\n",
    " &nbsp;&nbsp;&nbsp;&nbsp; b) Calling <br>\n",
    " &nbsp;&nbsp;&nbsp;&nbsp; c) Modifying an Attribute's Value Through a Method <br>\n",
    " &nbsp;&nbsp;&nbsp;&nbsp; d) Incrementing an Attribute's Value Through a Method <br>\n",
    " &nbsp;&nbsp;&nbsp;&nbsp; e) In-Class Exercise #3 - Add a method that prints the cars color and wheel number, then call them <br>\n",
    "6) <b>Inheritance</b> <br>\n",
    " &nbsp;&nbsp;&nbsp;&nbsp; a) Syntax for Inheriting from a Parent Class <br>\n",
    " &nbsp;&nbsp;&nbsp;&nbsp; b) The \\__init\\__() Method for a Child Class (super()) <br>\n",
    " &nbsp;&nbsp;&nbsp;&nbsp; c) Defining Attributes and Methods for the Child Class <br>\n",
    " &nbsp;&nbsp;&nbsp;&nbsp; d) Method Overriding <br>\n",
    " &nbsp;&nbsp;&nbsp;&nbsp; e) In-Class Exercise #4 - Create a class 'Ford' that inherits from 'Car' class and initialize it as a Blue Ford Explorer with 4 wheels using the super() method <br>\n",
    "7) <b>Classes as Attributes</b> <br>\n",
    "8) <b>Exercises</b> <br>\n",
    " &nbsp;&nbsp;&nbsp;&nbsp; a) Exercise #1 - Turn the shopping cart program from yesterday into an object-oriented program <br>"
   ]
  },
  {
   "cell_type": "markdown",
   "metadata": {},
   "source": [
    "## Creating a Class (Initializing/Declaring)\n",
    "<p>When creating a class, function, or even a variable you are initializing that object. Initializing and Declaring occur at the same time in Python, whereas in lower level languages you have to declare an object before initializing it. This is the first step in the process of using a class.</p>"
   ]
  },
  {
   "cell_type": "code",
   "execution_count": 1,
   "metadata": {},
   "outputs": [],
   "source": [
    "class Car():\n",
    "    wheels = 4\n",
    "    color = 'blue'"
   ]
  },
  {
   "cell_type": "code",
   "execution_count": 9,
   "metadata": {},
   "outputs": [],
   "source": [
    "#optional parentheses\n",
    "class Agent:\n",
    "    name = 'Smith'\n",
    "    glasses = 'black'"
   ]
  },
  {
   "cell_type": "markdown",
   "metadata": {},
   "source": [
    "## Using a Class (Instantiating)\n",
    "<p>The process of creating a class is called <i>Instantiating</i>. Each time you create a variable of that type of class, it is referred to as an <i>Instance</i> of that class. This is the second step in the process of using a class.</p>"
   ]
  },
  {
   "cell_type": "markdown",
   "metadata": {},
   "source": [
    "##### Creating One Instance"
   ]
  },
  {
   "cell_type": "code",
   "execution_count": 2,
   "metadata": {},
   "outputs": [],
   "source": [
    "ford = Car()"
   ]
  },
  {
   "cell_type": "markdown",
   "metadata": {},
   "source": [
    "##### Creating Multiple Instances"
   ]
  },
  {
   "cell_type": "code",
   "execution_count": 3,
   "metadata": {},
   "outputs": [
    {
     "name": "stdout",
     "output_type": "stream",
     "text": [
      "<__main__.Car object at 0x00000202CA1398B0>\n"
     ]
    }
   ],
   "source": [
    "print(ford)"
   ]
  },
  {
   "cell_type": "code",
   "execution_count": null,
   "metadata": {},
   "outputs": [],
   "source": [
    "# creating multiple instances\n",
    "chevy = Car()\n",
    "honda = Car()\n",
    "volvo = Car()\n",
    "\n",
    "#outputting attributes\n",
    "\n",
    "honda.wheels\n",
    "chevy.wheels\n",
    "\n",
    "volvo.color\n",
    "#attributeError\n",
    "# volvo.engine\n",
    "\n",
    "volvo.color = 'white'\n",
    "print(volvo.color)"
   ]
  },
  {
   "cell_type": "code",
   "execution_count": null,
   "metadata": {},
   "outputs": [],
   "source": [
    "agent_1 = Agent()\n",
    "agent_2 = Agent()\n",
    "agent_3 = Agent()\n",
    "agent_2.name"
   ]
  },
  {
   "cell_type": "code",
   "execution_count": null,
   "metadata": {},
   "outputs": [],
   "source": [
    "class Truck():\n",
    "    year = 2019\n",
    "    make = ''\n",
    "    model = \"\"\n",
    "    wheels = 4\n",
    "    engine = 1\n",
    "    driver = 1\n",
    "    weight_limit_tons = 18\n",
    "    \n",
    "\n",
    "ford = Truck()\n",
    "toyota = Truck()\n",
    "chevy = Truck()\n",
    "volvo = Truck()\n",
    "\n",
    "print(ford.year)"
   ]
  },
  {
   "cell_type": "code",
   "execution_count": 112,
   "metadata": {},
   "outputs": [
    {
     "ename": "AttributeError",
     "evalue": "'Car' object has no attribute 'weight_limit_tons'",
     "output_type": "error",
     "traceback": [
      "\u001b[1;31m---------------------------------------------------------------------------\u001b[0m",
      "\u001b[1;31mAttributeError\u001b[0m                            Traceback (most recent call last)",
      "\u001b[1;32m~\\AppData\\Local\\Temp\\ipykernel_3540\\2268319434.py\u001b[0m in \u001b[0;36m<module>\u001b[1;34m\u001b[0m\n\u001b[1;32m----> 1\u001b[1;33m \u001b[0mprint\u001b[0m\u001b[1;33m(\u001b[0m\u001b[0mchevy\u001b[0m\u001b[1;33m.\u001b[0m\u001b[0mweight_limit_tons\u001b[0m\u001b[1;33m)\u001b[0m\u001b[1;33m\u001b[0m\u001b[1;33m\u001b[0m\u001b[0m\n\u001b[0m",
      "\u001b[1;31mAttributeError\u001b[0m: 'Car' object has no attribute 'weight_limit_tons'"
     ]
    }
   ],
   "source": [
    "print(chevy.weight_limit_tons)"
   ]
  },
  {
   "cell_type": "markdown",
   "metadata": {},
   "source": [
    "##### In-Class Exercise #1 - Create a Class 'Car' and Instantiate three different makes of cars"
   ]
  },
  {
   "cell_type": "code",
   "execution_count": 16,
   "metadata": {},
   "outputs": [
    {
     "name": "stdout",
     "output_type": "stream",
     "text": [
      "4\n",
      "honda\n",
      "fit\n"
     ]
    }
   ],
   "source": [
    "\n"
   ]
  },
  {
   "cell_type": "code",
   "execution_count": 10,
   "metadata": {},
   "outputs": [
    {
     "data": {
      "text/plain": [
       "'Smith'"
      ]
     },
     "execution_count": 10,
     "metadata": {},
     "output_type": "execute_result"
    }
   ],
   "source": []
  },
  {
   "cell_type": "code",
   "execution_count": 12,
   "metadata": {},
   "outputs": [
    {
     "name": "stdout",
     "output_type": "stream",
     "text": [
      "2019\n"
     ]
    }
   ],
   "source": [
    "\n",
    "    \n"
   ]
  },
  {
   "cell_type": "code",
   "execution_count": 14,
   "metadata": {},
   "outputs": [
    {
     "name": "stdout",
     "output_type": "stream",
     "text": [
      "18\n"
     ]
    }
   ],
   "source": []
  },
  {
   "cell_type": "code",
   "execution_count": null,
   "metadata": {},
   "outputs": [],
   "source": []
  },
  {
   "cell_type": "code",
   "execution_count": null,
   "metadata": {},
   "outputs": [],
   "source": []
  },
  {
   "cell_type": "markdown",
   "metadata": {},
   "source": [
    "## The \\__init\\__() Method <br>\n",
    "<p>This method is used in almost every created class, and called only once upon the creation of the class instance. This method will initialize all variables needed for the object.</p>"
   ]
  },
  {
   "cell_type": "code",
   "execution_count": null,
   "metadata": {},
   "outputs": [],
   "source": [
    "class Car:\n",
    "    wheels = 4\n",
    "    \n",
    "    def __init__(self, color, make, model):\n",
    "        self.color = color\n",
    "        self.make = make\n",
    "        self.model = model\n",
    "        \n",
    "new_car = Car('white', 'honda', 'fit')\n",
    "\n",
    "print(new_car.wheels)\n",
    "print(new_car.make)\n",
    "print(new_car.model)\n",
    "\n",
    "car_2 = Car('chevy', 'cruz')\n"
   ]
  },
  {
   "cell_type": "code",
   "execution_count": 19,
   "metadata": {},
   "outputs": [],
   "source": [
    "class Agent:\n",
    "    name = 'Smith'\n",
    "    \n",
    "    \n",
    "    def __init__(self, person_overwritten, weapon, in_matrix=True):\n",
    "        self.p_overwritten = person_overwritten\n",
    "        self.weapon = weapon\n",
    "        \n",
    "new_agent = Agent('Bob', 'Dessert Eagel')\n",
    "    "
   ]
  },
  {
   "cell_type": "markdown",
   "metadata": {},
   "source": [
    "##### The 'self' Attribute <br>\n",
    "<p>This attribute is required to keep track of specific instance's attributes. Without the self attribute, the program would not know how to reference or keep track of an instance's attributes.</p>"
   ]
  },
  {
   "cell_type": "code",
   "execution_count": null,
   "metadata": {},
   "outputs": [],
   "source": [
    "# see above"
   ]
  },
  {
   "cell_type": "markdown",
   "metadata": {},
   "source": [
    "## Class Attributes <br>\n",
    "<p>While variables are inside of a class, they are referred to as attributes and not variables. When someone says 'attribute' you know they're speaking about a class. Attributes can be initialized through the init method, or outside of it.</p>"
   ]
  },
  {
   "cell_type": "markdown",
   "metadata": {},
   "source": [
    "##### Initializing Attributes"
   ]
  },
  {
   "cell_type": "code",
   "execution_count": null,
   "metadata": {},
   "outputs": [],
   "source": [
    "# see above"
   ]
  },
  {
   "cell_type": "markdown",
   "metadata": {},
   "source": [
    "##### Accessing Class Attributes"
   ]
  },
  {
   "cell_type": "code",
   "execution_count": 21,
   "metadata": {
    "scrolled": true
   },
   "outputs": [
    {
     "data": {
      "text/plain": [
       "'Smith'"
      ]
     },
     "execution_count": 21,
     "metadata": {},
     "output_type": "execute_result"
    }
   ],
   "source": [
    "# See Above\n",
    "new_agent.p_overwritten\n",
    "\n",
    "Agent.name"
   ]
  },
  {
   "cell_type": "markdown",
   "metadata": {},
   "source": [
    "##### Setting Defaults for Attributes"
   ]
  },
  {
   "cell_type": "code",
   "execution_count": 24,
   "metadata": {},
   "outputs": [],
   "source": [
    "class Agent:\n",
    "    name = 'Smith'\n",
    "    \n",
    "    \n",
    "    def __init__(self, person_overwritten, weapon):\n",
    "        self.p_overwritten = person_overwritten\n",
    "        self.weapon = weapon\n",
    "        self.in_matrix = True\n",
    "        \n",
    "new_agent = Agent('Bob', 'Dessert Eagle')"
   ]
  },
  {
   "cell_type": "markdown",
   "metadata": {},
   "source": [
    "##### Changing Class Attributes <br>\n",
    "<p>Keep in mind there are global class attributes and then there are attributes only available to each class instance which won't effect other classes.</p>"
   ]
  },
  {
   "cell_type": "code",
   "execution_count": 26,
   "metadata": {},
   "outputs": [
    {
     "name": "stdout",
     "output_type": "stream",
     "text": [
      "brown\n",
      "brown\n",
      "Bob\n",
      "bill\n"
     ]
    }
   ],
   "source": [
    "print(new_agent.name)\n",
    "new_agent.name = 'brown'\n",
    "print(new_agent.name)\n",
    "\n",
    "print(new_agent.p_overwritten)\n",
    "new_agent.p_overwritten = 'bill'\n",
    "print(new_agent.p_overwritten)"
   ]
  },
  {
   "cell_type": "code",
   "execution_count": 27,
   "metadata": {},
   "outputs": [
    {
     "data": {
      "text/plain": [
       "'Truck'"
      ]
     },
     "execution_count": 27,
     "metadata": {},
     "output_type": "execute_result"
    }
   ],
   "source": [
    "#assigning a new attribute outside of class\n",
    "new_agent.car = 'Truck'\n",
    "new_agent.car"
   ]
  },
  {
   "cell_type": "markdown",
   "metadata": {},
   "source": [
    "##### In-Class Exercise #2 - Add a doors and seats attribute to your 'Car' class then print out two different instances with different doors and seats"
   ]
  },
  {
   "cell_type": "code",
   "execution_count": 28,
   "metadata": {},
   "outputs": [],
   "source": [
    "class Car:\n",
    "    wheels = 4\n",
    "    \n",
    "    def __init__(self, color, make, model, doors, seats):\n",
    "        self.color = color\n",
    "        self.make = make\n",
    "        self.model = model\n",
    "        self.doors = doors\n",
    "        self.seats = seats\n",
    "        "
   ]
  },
  {
   "cell_type": "code",
   "execution_count": 39,
   "metadata": {},
   "outputs": [
    {
     "name": "stdout",
     "output_type": "stream",
     "text": [
      "Tesla has 4 doors\n",
      "porsche has 2 doors\n"
     ]
    }
   ],
   "source": [
    "car_1 = Car('white', 'Tesla', 'cybertruck', 4, 5)\n",
    "car_2 = Car('white', 'porsche', '911', 2, 2)\n",
    "\n",
    "print(car_1.make + ' has ' + str(car_1.doors) + ' doors')\n",
    "print(car_2.make + ' has ' + str(car_2.doors) + ' doors')"
   ]
  },
  {
   "cell_type": "markdown",
   "metadata": {},
   "source": [
    "## Class Methods <br>\n",
    "<p>While inside of a class, functions are referred to as 'methods'. If you hear someone mention methods, they're speaking about classes. Methods are essentially functions, but only callable on the instances of a class.</p>"
   ]
  },
  {
   "cell_type": "code",
   "execution_count": 42,
   "metadata": {},
   "outputs": [],
   "source": [
    "\n",
    "        \n",
    "    \n",
    "    "
   ]
  },
  {
   "cell_type": "markdown",
   "metadata": {},
   "source": [
    "##### Creating"
   ]
  },
  {
   "cell_type": "code",
   "execution_count": 61,
   "metadata": {},
   "outputs": [
    {
     "name": "stdout",
     "output_type": "stream",
     "text": [
      "red pill down the rabbit hole, blue pill believe what ever you woulld likered\n",
      "are you ready for training?yes\n",
      "\n",
      " You know ['kickboxing', 'kung fu', 'taekwando', 'aikido', 'druken monk', 'winghun']\n",
      "\n",
      " Plug in, Enter the Matrix\n",
      "Agents are coming, slow down time, so crazy backbends\n",
      "\n",
      " Pick up the Phone, Exit the Matrix\n",
      "red pill down the rabbit hole, blue pill believe what ever you woulld likeblue\n",
      "stays hooked to the machine\n"
     ]
    }
   ],
   "source": [
    "class Human_Matrix_Universe:\n",
    "    \n",
    "    \"\"\"\n",
    "        A class with methods to leave matrix, get training, enter matrix, \n",
    "        battle agents, leave matrix, decide to stay class attributes:\n",
    "            name, fighting styles (list), awake\n",
    "    \"\"\"\n",
    "    \n",
    "    def __init__(self, name, fighting_styles=[], awake=False):\n",
    "        self.name = name\n",
    "        self.fighting_styles = fighting_styles\n",
    "        self.awake = awake\n",
    "        self.location = 1\n",
    "    \n",
    "    def pill_decision(self, pill):\n",
    "        if pill == 'red':\n",
    "            self.awake = True\n",
    "            \n",
    "        else:\n",
    "            self.awake = False\n",
    "            print('stays hooked to the machine')\n",
    "    \n",
    "    def get_training(self):\n",
    "        self.fighting_styles += ['kung fu', 'taekwando','aikido', 'druken monk', 'winghun']\n",
    "        print(f'\\n You know {self.fighting_styles}')\n",
    "#     dynamically adjust class attribute\n",
    "    \n",
    "    def specific_training(self, fighting_style):\n",
    "        self.fighting_styles.append(fighting_style)\n",
    "        print(f'\\n You know {fighting_style}')\n",
    "        \n",
    "    \n",
    "    def enter_matrix(self):\n",
    "        print('\\n Plug in, Enter the Matrix')\n",
    "        self.location = 1\n",
    "        \n",
    "\n",
    "    def exit_matrix(self):\n",
    "        print('\\n Pick up the Phone, Exit the Matrix')\n",
    "        self.location = 0\n",
    "    \n",
    "    def dodge_bullets(self):\n",
    "        if self.location:\n",
    "            print('Agents are coming, slow down time, so crazy backbends')\n",
    "        else:\n",
    "            print('Run')\n",
    "    def driver(self):\n",
    "        pill = input('red pill down the rabbit hole, blue pill believe what ever you woulld like').lower()\n",
    "        self.pill_decision(pill)\n",
    "        while self.awake:\n",
    "            res = input('are you ready for training?')\n",
    "            if res == 'yes':\n",
    "                self.get_training()\n",
    "            self.enter_matrix()\n",
    "            self.dodge_bullets()\n",
    "            self.exit_matrix()\n",
    "            pill = input('red pill down the rabbit hole, blue pill believe what ever you woulld like').lower()\n",
    "            self.pill_decision(pill)\n",
    "            \n",
    "new_human = Human_Matrix_Universe('tank', ['kickboxing'])\n",
    "\n",
    "new_human.driver()\n",
    "            "
   ]
  },
  {
   "cell_type": "markdown",
   "metadata": {},
   "source": [
    "##### Calling"
   ]
  },
  {
   "cell_type": "code",
   "execution_count": 55,
   "metadata": {},
   "outputs": [
    {
     "name": "stdout",
     "output_type": "stream",
     "text": [
      "False\n",
      "True\n",
      "Agents are coming, slow down time, so crazy backbends\n",
      "black\n"
     ]
    }
   ],
   "source": [
    "neo = Human_Matrix_Universe('neo')\n",
    "\n",
    "#attribute before method\n",
    "\n",
    "print(neo.awake)\n",
    "\n",
    "# modify class attribute\n",
    "neo.pill_decision('red')\n",
    "\n",
    "# after method\n",
    "print(neo.awake)\n",
    "\n",
    "neo.dodge_bullets()\n",
    "\n",
    "setattr(neo, 'glasses', 'black')\n",
    "# example of adding attribute with setattr(<object>, <attribute>, <value>)\n",
    "print(neo.glasses)\n",
    "\n"
   ]
  },
  {
   "cell_type": "markdown",
   "metadata": {},
   "source": [
    "##### Modifying an Attribute's Value Through a Method"
   ]
  },
  {
   "cell_type": "code",
   "execution_count": 54,
   "metadata": {},
   "outputs": [
    {
     "name": "stdout",
     "output_type": "stream",
     "text": [
      "\n",
      " You know boxing\n",
      "['boxing', 'boxing']\n"
     ]
    }
   ],
   "source": [
    "#before\n",
    "neo.fighting_styles\n",
    "\n",
    "neo.specific_training('boxing')\n",
    "\n",
    "print(neo.fighting_styles)\n",
    "\n"
   ]
  },
  {
   "cell_type": "markdown",
   "metadata": {},
   "source": [
    "##### Incrementing an Attribute's Value Through a Method"
   ]
  },
  {
   "cell_type": "code",
   "execution_count": null,
   "metadata": {},
   "outputs": [],
   "source": []
  },
  {
   "cell_type": "markdown",
   "metadata": {},
   "source": [
    "##### In-Class Exercise #3 - Add a method that takes in three parameters of year, doors and seats and prints out a formatted print statement with make, model, year, seats, and doors"
   ]
  },
  {
   "cell_type": "code",
   "execution_count": null,
   "metadata": {},
   "outputs": [],
   "source": [
    "# Create class with 2 paramters inside of the __init__ which are make and model\n",
    "\n",
    "# Inside of the Car class create a method that has 4 parameter in total (self,year,door,seats)\n",
    "\n",
    "# Output: This car is from 2019 and is a Ford Expolorer and has 4 doors and 5 seats\n",
    "class Car:\n",
    "    wheels = 4\n",
    "    \n",
    "    def __init__(self, make, model, doors, seats, year):\n",
    "    def formatted_string(self):\n",
    "        print(f'{self.year}{self.model}{self.doors}{}\n",
    "        \n",
    "    \n"
   ]
  },
  {
   "cell_type": "markdown",
   "metadata": {},
   "source": [
    "## Inheritance <br>\n",
    "<p>You can create a child-parent relationship between two classes by using inheritance. What this allows you to do is have overriding methods, but also inherit traits from the parent class. Think of it as an actual parent and child, the child will inherit the parent's genes, as will the classes in OOP</p>"
   ]
  },
  {
   "cell_type": "markdown",
   "metadata": {},
   "source": [
    "##### Syntax for Inheriting from a Parent Class"
   ]
  },
  {
   "cell_type": "code",
   "execution_count": 68,
   "metadata": {},
   "outputs": [
    {
     "name": "stdout",
     "output_type": "stream",
     "text": [
      "medium\n",
      "i am a human\n",
      "aragornfighter{'strength': 10, 'dexterity': 10}\n"
     ]
    }
   ],
   "source": [
    "class Fantasy_Character:\n",
    "    speed = 10\n",
    "    \n",
    "    def __init__(self, name, fantasy_class, stats):\n",
    "        self.name = name\n",
    "        self.fantasy_class = fantasy_class\n",
    "        self.stats = stats\n",
    "        \n",
    "    def display_character(self):\n",
    "        print(f'{self.name}{self.fantasy_class}{self.stats}')\n",
    "\n",
    "class Human(Fantasy_Character):\n",
    "    size = 'medium'\n",
    "    \n",
    "    def display_fantasy_race(self):\n",
    "              print('i am a human')\n",
    "\n",
    "dummy_stats={\n",
    "    'strength': 10,\n",
    "    'dexterity': 10\n",
    "}\n",
    "\n",
    "new_human = Human('aragorn', 'fighter', dummy_stats )\n",
    "print(new_human.size)\n",
    "              \n",
    "new_human.display_fantasy_race()\n",
    "new_human.speed\n",
    "\n",
    "new_human.display_character()\n",
    "              \n",
    "              "
   ]
  },
  {
   "cell_type": "markdown",
   "metadata": {},
   "source": [
    "##### The \\__init\\__() Method for a Child Class - super()"
   ]
  },
  {
   "cell_type": "code",
   "execution_count": 111,
   "metadata": {
    "scrolled": true
   },
   "outputs": [
    {
     "name": "stdout",
     "output_type": "stream",
     "text": [
      "my class is a hobbit\n",
      "bilboburglar{'strength': 10, 'dexterity': 10}\n"
     ]
    }
   ],
   "source": [
    "from random import randint\n",
    "\n",
    "class Hobbit(Fantasy_Character):\n",
    "    \n",
    "    speed = 12\n",
    "    size = 'small'\n",
    "    \n",
    "    def __init__(self, name, fantasy_class, stats, height):\n",
    "        super().__init__(name, fantasy_class, stats)\n",
    "        self.height = height\n",
    "        \n",
    "    def lucky(self):\n",
    "        print(f'you gain a {(1, self.stats[\"dexterity\"])} bonus to your luck roll')\n",
    "        \n",
    "    def display_my_class(self):\n",
    "        print('my class is a hobbit')\n",
    "        \n",
    "bilbo = Hobbit('bilbo', 'burglar', dummy_stats, 4)\n",
    "\n",
    "bilbo.speed\n",
    "\n",
    "bilbo.display_my_class()\n",
    "bilbo.display_character()\n",
    "    \n",
    "    "
   ]
  },
  {
   "cell_type": "markdown",
   "metadata": {},
   "source": [
    "##### Defining Attributes and Methods for the Child Class"
   ]
  },
  {
   "cell_type": "code",
   "execution_count": null,
   "metadata": {},
   "outputs": [],
   "source": [
    "# See Above"
   ]
  },
  {
   "cell_type": "markdown",
   "metadata": {},
   "source": [
    "##### Method Overriding"
   ]
  },
  {
   "cell_type": "code",
   "execution_count": 80,
   "metadata": {},
   "outputs": [
    {
     "data": {
      "text/plain": [
       "12"
      ]
     },
     "execution_count": 80,
     "metadata": {},
     "output_type": "execute_result"
    }
   ],
   "source": [
    "# grandchild class\n",
    "class Stout_Hobbit(Hobbit):\n",
    "    \n",
    "    def _init__(self, name, fantasy_class, stats, heights, weight):\n",
    "        super().__init__(name, fantasy_class, stats, heights)\n",
    "        self.weight = weight\n",
    "    def display_my_class(self):\n",
    "        print('My class is stout hobbit')\n",
    "        \n",
    "sam = Stout_Hobbit('sam', 'Barbarian', dummy_stats, 4)\n",
    "\n",
    "sam.speed\n",
    "        "
   ]
  },
  {
   "cell_type": "markdown",
   "metadata": {},
   "source": [
    "## Classes as Attributes <br>\n",
    "<p>Classes can also be used as attributes within another class. This is useful in situations where you need to keep variables locally stored, instead of globally stored.</p>"
   ]
  },
  {
   "cell_type": "code",
   "execution_count": 83,
   "metadata": {},
   "outputs": [],
   "source": [
    "class Stats:\n",
    "    def __init__(self, strength=10, dexterity=10, constitution=10, intelligence=10, wisdom=10, charisma=10):\n",
    "        self.strength = strength\n",
    "        self.dexterity = dexterity\n",
    "        self.constitution = constitution\n",
    "        self.wisdom = wisdom\n",
    "        self.charisma = charisma\n",
    "        \n",
    "    def simple_test(self):\n",
    "        print('method from object attribute')"
   ]
  },
  {
   "cell_type": "code",
   "execution_count": 87,
   "metadata": {},
   "outputs": [
    {
     "ename": "AttributeError",
     "evalue": "'Stats' object has no attribute 'simple_test'",
     "output_type": "error",
     "traceback": [
      "\u001b[1;31m---------------------------------------------------------------------------\u001b[0m",
      "\u001b[1;31mAttributeError\u001b[0m                            Traceback (most recent call last)",
      "\u001b[1;32m~\\AppData\\Local\\Temp\\ipykernel_3540\\2190834078.py\u001b[0m in \u001b[0;36m<module>\u001b[1;34m\u001b[0m\n\u001b[0;32m      2\u001b[0m \u001b[0mnew_character\u001b[0m \u001b[1;33m=\u001b[0m \u001b[0mHobbit\u001b[0m\u001b[1;33m(\u001b[0m\u001b[1;34m'Frodo'\u001b[0m\u001b[1;33m,\u001b[0m \u001b[1;34m'Dufis'\u001b[0m\u001b[1;33m,\u001b[0m \u001b[0mnew_stats\u001b[0m\u001b[1;33m,\u001b[0m \u001b[1;36m4\u001b[0m\u001b[1;33m)\u001b[0m\u001b[1;33m\u001b[0m\u001b[1;33m\u001b[0m\u001b[0m\n\u001b[0;32m      3\u001b[0m \u001b[0mnew_character\u001b[0m\u001b[1;33m.\u001b[0m\u001b[0mstats\u001b[0m\u001b[1;33m.\u001b[0m\u001b[0mdexterity\u001b[0m\u001b[1;33m\u001b[0m\u001b[1;33m\u001b[0m\u001b[0m\n\u001b[1;32m----> 4\u001b[1;33m \u001b[0mnew_character\u001b[0m\u001b[1;33m.\u001b[0m\u001b[0mstats\u001b[0m\u001b[1;33m.\u001b[0m\u001b[0msimple_test\u001b[0m\u001b[1;33m(\u001b[0m\u001b[1;33m)\u001b[0m\u001b[1;33m\u001b[0m\u001b[1;33m\u001b[0m\u001b[0m\n\u001b[0m",
      "\u001b[1;31mAttributeError\u001b[0m: 'Stats' object has no attribute 'simple_test'"
     ]
    }
   ],
   "source": [
    "new_stats = Stats()\n",
    "new_character = Hobbit('Frodo', 'Dufis', new_stats, 4)\n",
    "new_character.stats.dexterity\n",
    "new_character.stats.simple_test()"
   ]
  },
  {
   "cell_type": "markdown",
   "metadata": {},
   "source": [
    "# Exercises"
   ]
  },
  {
   "cell_type": "markdown",
   "metadata": {},
   "source": [
    "### Exercise 1 - Turn the shopping cart program from yesterday into an object-oriented program\n",
    "\n",
    "The comments in the cell below are there as a guide for thinking about the problem. However, if you feel a different way is best for you and your own thought process, please do what feels best for you by all means."
   ]
  },
  {
   "cell_type": "code",
   "execution_count": null,
   "metadata": {},
   "outputs": [
    {
     "name": "stdout",
     "output_type": "stream",
     "text": [
      "would you like to add/remove/show/quit?: add\n",
      "what item are you addingeggs\n",
      "how many eggs would you like to add?: 5\n",
      "how much does eggs cost?: 4\n",
      "{'eggs': {'quantity': 5, 'price': 4.0}}\n",
      "would you like to add/remove/show/quit?: remove\n",
      "what item would you like to remove?: eggs\n",
      "how many would you like to remove?: 3\n",
      "item not in list\n",
      "{'eggs': {'quantity': 2, 'price': 4.0}}\n"
     ]
    }
   ],
   "source": [
    "# Create a class called cart that retains items and has methods to add, remove, and show\n",
    "\n",
    "class Cart():\n",
    "    \n",
    "    \n",
    "    grocery_dict={}\n",
    "    \"\"\"\n",
    "        {\n",
    "            grocery_item : {\n",
    "                quantity: int,\n",
    "                price: float\n",
    "            }\n",
    "        }\n",
    "    \"\"\"\n",
    "    \n",
    "    def driver(self):\n",
    "        shopping = True\n",
    "        while shopping:\n",
    "#         user option for add, removing showing or quit\n",
    "            res = input('would you like to add/remove/show/quit?: ').lower()\n",
    "            \n",
    "#         handle add\n",
    "        \n",
    "            if res == 'add':\n",
    "                self.add()\n",
    "#         handle remove\n",
    "            if res == 'remove':\n",
    "                self.remove()\n",
    "#         handle show\n",
    "            if res == 'show':\n",
    "                self.show()\n",
    "#         handle quit\n",
    "            if res == 'quit':\n",
    "                shopping = False\n",
    "#         continue until quit\n",
    "    \n",
    "    def add(self):\n",
    "        item = input('what item are you adding').lower()\n",
    "        while True:\n",
    "            quantity = input(f'how many {item} would you like to add?: ')\n",
    "            if quantity.isdigit():\n",
    "                quantity = int(quantity)\n",
    "                break\n",
    "            else:\n",
    "                print('Please enter quantity in digits')\n",
    "        while True:\n",
    "            try:\n",
    "                price = float(input(f'how much does {item} cost?: '))\n",
    "                break\n",
    "            except:\n",
    "                print('please enter price in digits')\n",
    "                \n",
    "        if item in self.grocery_dict:\n",
    "            pass\n",
    "        else:\n",
    "            self.grocery_dict[item] = {\n",
    "                'quantity' : quantity,\n",
    "                'price'   : price\n",
    "            }\n",
    "        self.show()\n",
    "        \n",
    "        \n",
    "    def remove(self):\n",
    "        item_to_remove = input('what item would you like to remove?: ').lower()\n",
    "        while True:\n",
    "            quantity = int(input('how many would you like to remove?: '))\n",
    "            break\n",
    "        if item_to_remove in self.grocery_dict:\n",
    "            self.grocery_dict[item_to_remove]['quantity'] -= quantity\n",
    "            if self.grocery_dict[item_to_remove]['quantity']<1:\n",
    "                self.grocery_dict.pop(item_to_remove)\n",
    "            else:\n",
    "                print('item not in list')\n",
    "        self.show()\n",
    "        \n",
    "    def show(self):\n",
    "        print(self.grocery_dict)\n",
    "\n",
    "new_cart = Cart()\n",
    "new_cart.driver()"
   ]
  },
  {
   "cell_type": "markdown",
   "metadata": {},
   "source": [
    "### Exercise 2 - Write a Python class which has two methods get_String and print_String. get_String accept a string from the user and print_String print the string in upper case"
   ]
  },
  {
   "cell_type": "code",
   "execution_count": 160,
   "metadata": {},
   "outputs": [
    {
     "name": "stdout",
     "output_type": "stream",
     "text": [
      "my printer hs been created\n",
      "give me a random wordword\n"
     ]
    }
   ],
   "source": [
    "class My_printer:\n",
    "    my_input = \"\" \n",
    "    \n",
    "    def __init__(self):\n",
    "        print('my printer has been created')\n",
    "        \n",
    "    def get_string(self):    \n",
    "        self.my_input = input('give me a random word')\n",
    "    \n",
    "    def print_string(self):\n",
    "        print(self.my_input.upper())\n",
    "        \n",
    "    \n",
    "user1 = My_printer()\n",
    "user1.get_string()\n",
    "user1.print_string()\n",
    "\n",
    "\n",
    "\n",
    "\n",
    "\n",
    "\n",
    "        \n",
    "    \n",
    "\n",
    "\n",
    "\n",
    "        \n",
    "        \n",
    "        \n",
    "        "
   ]
  },
  {
   "cell_type": "code",
   "execution_count": null,
   "metadata": {},
   "outputs": [],
   "source": []
  },
  {
   "cell_type": "code",
   "execution_count": null,
   "metadata": {},
   "outputs": [],
   "source": []
  }
 ],
 "metadata": {
  "kernelspec": {
   "display_name": "Python 3 (ipykernel)",
   "language": "python",
   "name": "python3"
  },
  "language_info": {
   "codemirror_mode": {
    "name": "ipython",
    "version": 3
   },
   "file_extension": ".py",
   "mimetype": "text/x-python",
   "name": "python",
   "nbconvert_exporter": "python",
   "pygments_lexer": "ipython3",
   "version": "3.9.13"
  }
 },
 "nbformat": 4,
 "nbformat_minor": 2
}
